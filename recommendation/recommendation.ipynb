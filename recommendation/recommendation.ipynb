{
 "cells": [
  {
   "cell_type": "code",
   "execution_count": 29,
   "metadata": {},
   "outputs": [],
   "source": [
    "import numpy as np\n",
    "import pandas as pd\n",
    "\n",
    "links_df = pd.read_csv('data/links.csv')\n",
    "movies_df = pd.read_csv('data/movies.csv')\n",
    "ratings_df = pd.read_csv('data/ratings.csv')\n",
    "tags_df = pd.read_csv('data/tags.csv')\n",
    "df = movies_df.merge(ratings_df, on='movieId')"
   ]
  },
  {
   "cell_type": "code",
   "execution_count": 30,
   "metadata": {},
   "outputs": [],
   "source": [
    "M_j = 'John Wick (2014)' \n",
    "recommended_movies = []\n",
    "\n",
    "# Find the movie in the database, and sort it by rating\n",
    "movie_db = df[df['title'] == M_j]\\\n",
    "            .sort_values(by='rating', ascending=False)\n",
    "\n",
    "# Get the first 5 users who liked this movie\n",
    "for user in movie_db.iloc[:5]['userId'].values:\n",
    "    \n",
    "    # Get the rated movies for this user\n",
    "    rated_movies = df[df['userId'] == user]\n",
    "    \n",
    "    # Get the five biggest rated movie by this user\n",
    "    rated_movies = rated_movies[rated_movies['title'] != M_j].sort_values(by='rating', ascending=False).iloc[:5]\n",
    "    \n",
    "    # Add these to the recommendations\n",
    "    recommended_movies.extend(list(rated_movies['title'].values))\n",
    "    \n",
    "recommended_movies = np.unique(recommended_movies)"
   ]
  },
  {
   "cell_type": "code",
   "execution_count": 31,
   "metadata": {},
   "outputs": [
    {
     "data": {
      "text/plain": [
       "['Toy Story (1995)',\n",
       " 'Aladdin (1992)',\n",
       " 'Jungle Book, The (1967)',\n",
       " 'Addams Family, The (1991)',\n",
       " 'Willow (1988)',\n",
       " 'Kingsman: The Secret Service (2015)',\n",
       " 'Indiana Jones and the Temple of Doom (1984)',\n",
       " 'Deadpool (2016)',\n",
       " 'Visitor Q (Bizita Q) (2001)',\n",
       " \"Pan's Labyrinth (Laberinto del fauno, El) (2006)\",\n",
       " 'Jackass 2.5 (2007)',\n",
       " '21 Jump Street (2012)',\n",
       " 'The Godfather Trilogy: 1972-1990 (1992)',\n",
       " 'Suspiria (1977)',\n",
       " 'Predestination (2014)',\n",
       " 'Opera (1987)',\n",
       " \"King's Speech, The (2010)\",\n",
       " 'Green Mile, The (1999)',\n",
       " 'Fight Club (1999)',\n",
       " 'Captain America: Civil War (2016)',\n",
       " 'Boondock Saints II: All Saints Day, The (2009)',\n",
       " 'Batman Begins (2005)']"
      ]
     },
     "execution_count": 31,
     "metadata": {},
     "output_type": "execute_result"
    }
   ],
   "source": [
    "gmovie_genres = df.iloc[0]['genres'].split('|')\n",
    "scores = {}  # {title: score ...}\n",
    "\n",
    "for movie in recommended_movies:\n",
    "    movied = df[df['title'] == movie].iloc[0]\n",
    "    movie_genres = movied['genres'].split('|')\n",
    "    score = 0\n",
    "    \n",
    "    # How many gmovie_genre can be found in movie_genres?\n",
    "    for gmovie_genre in gmovie_genres:\n",
    "        if gmovie_genre in movie_genres:\n",
    "            score += 1\n",
    "    \n",
    "    scores[movie] = score\n",
    "    \n",
    "# Sort them on score and reverse it, because the bigger the score the better \n",
    "recommended_movies = sorted(scores, key=lambda x: scores[x])[::-1]  \n",
    "recommended_movies"
   ]
  }
 ],
 "metadata": {
  "kernelspec": {
   "display_name": "Python 3",
   "language": "python",
   "name": "python3"
  },
  "language_info": {
   "codemirror_mode": {
    "name": "ipython",
    "version": 3
   },
   "file_extension": ".py",
   "mimetype": "text/x-python",
   "name": "python",
   "nbconvert_exporter": "python",
   "pygments_lexer": "ipython3",
   "version": "3.8.10"
  },
  "orig_nbformat": 4
 },
 "nbformat": 4,
 "nbformat_minor": 2
}
